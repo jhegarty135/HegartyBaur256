{
 "cells": [
  {
   "cell_type": "code",
   "execution_count": 16,
   "metadata": {
    "scrolled": true
   },
   "outputs": [
    {
     "name": "stdout",
     "output_type": "stream",
     "text": [
      "Collecting xmltodict\n",
      "  Downloading https://files.pythonhosted.org/packages/28/fd/30d5c1d3ac29ce229f6bdc40bbc20b28f716e8b363140c26eff19122d8a5/xmltodict-0.12.0-py2.py3-none-any.whl\n",
      "Installing collected packages: xmltodict\n",
      "Successfully installed xmltodict-0.12.0\n",
      "Note: you may need to restart the kernel to use updated packages.\n"
     ]
    }
   ],
   "source": [
    "pip install xmltodict"
   ]
  },
  {
   "cell_type": "code",
   "execution_count": 161,
   "metadata": {},
   "outputs": [],
   "source": [
    "import xmltodict\n",
    "import json\n",
    "import requests\n",
    "import pandas as pd\n",
    "import numpy as np\n",
    "\n",
    "key = \"f935c022c103817c465fa3d33f64ed86\""
   ]
  },
  {
   "cell_type": "code",
   "execution_count": 162,
   "metadata": {
    "scrolled": true
   },
   "outputs": [],
   "source": [
    "#Contributions to candidates from specific organizations\n",
    "\n",
    "def candOrgs(key):\n",
    "    cid = input('Enter the CID of the Candidate/Legislator whose Contributions from Organizations You Would Like To View: ')\n",
    "    year = input(\"What cycle would you like to view? (2012, 2014, 2016, 2018, 2020): \")\n",
    "    \n",
    "    params = {'method' : 'candContrib', 'cid' : cid, 'cycle' : year, 'apikey' : key}\n",
    "\n",
    "    url = \"https://www.opensecrets.org/api\"\n",
    "\n",
    "    response = requests.get(url, params = params)\n",
    "    response_string = response.content\n",
    "\n",
    "    qwerty = xmltodict.parse(response_string)\n",
    "\n",
    "    alob = qwerty['response']['contributors']['contributor']\n",
    "\n",
    "    candOrgsTable = pd.DataFrame([])\n",
    "\n",
    "    for alobs in alob:\n",
    "        org = alobs['@org_name']\n",
    "        indivs = alobs['@indivs']\n",
    "        pacs = alobs['@pacs']\n",
    "        total = alobs['@total']\n",
    "        candOrgsTable = candOrgsTable.append(pd.DataFrame({'Org' : org, 'Indivs' : indivs, 'PACS' : pacs, 'Total' : total}, index=[0]))\n",
    "    \n",
    "    print(\"\\n Showing organizations that contribute to\", qwerty['response']['contributors']['@cand_name'])\n",
    "    return candOrgsTable\n"
   ]
  },
  {
   "cell_type": "code",
   "execution_count": 163,
   "metadata": {
    "scrolled": true
   },
   "outputs": [],
   "source": [
    "#List of Legislators of a certain state purpose is to provide user with CID\n",
    "\n",
    "def getLegislators(key, url):\n",
    "    state = input(\"Enter an Abbreviated State (AL, AK, AZ, etc.): \")\n",
    "    \n",
    "    params = {'method' : 'getLegislators', 'id' : state, 'apikey' : key}\n",
    "\n",
    "    url = \"https://www.opensecrets.org/api\"\n",
    "\n",
    "    response = requests.get(url, params = params)\n",
    "    response_string = response.content\n",
    "\n",
    "    qwerty = xmltodict.parse(response_string)\n",
    "    alob = qwerty['response']['legislator']\n",
    "\n",
    "    getLegislatorsTable = pd.DataFrame([])\n",
    "\n",
    "    for alobs in alob:\n",
    "        name = alobs['@firstlast']\n",
    "        cid = alobs['@cid']\n",
    "        party = alobs['@party']\n",
    "        getLegislatorsTable = getLegislatorsTable.append(pd.DataFrame({'Name' : name, 'CID' : cid, 'Party' : party}, index=[0]))\n",
    " \n",
    "    print('\\n Showing current Legislators for', state)\n",
    "    return getLegislatorsTable\n"
   ]
  },
  {
   "cell_type": "code",
   "execution_count": 164,
   "metadata": {},
   "outputs": [],
   "source": [
    "#Summary of specific info of a legislator based on CID obtained in previous step\n",
    "\n",
    "def summLegislators(key):\n",
    "    \n",
    "    state = input(\"Enter a Candidates/Legislators CID: \")\n",
    "    \n",
    "    params = {'method' : 'getLegislators', 'id' : state, 'apikey' : key}\n",
    "\n",
    "    url = \"https://www.opensecrets.org/api\"\n",
    "\n",
    "    response = requests.get(url, params = params)\n",
    "    response_string = response.content\n",
    "\n",
    "    qwerty = xmltodict.parse(response_string)\n",
    "    alob = qwerty['response']['legislator']\n",
    "    \n",
    "    summLegislatorsTable= pd.DataFrame([])\n",
    "\n",
    "    name = alob['@firstlast']\n",
    "    party = alob['@party']\n",
    "    cid = alob['@cid']\n",
    "    gender = alob['@gender']\n",
    "    dob = alob['@birthdate']\n",
    "    elected = alob['@first_elected']\n",
    "    office = alob['@office']\n",
    "    phone = alob['@phone']\n",
    "    website = alob['@website']\n",
    "    comments = alob['@comments']\n",
    "    \n",
    "    summLegislatorsTable = summLegislatorsTable.append(pd.DataFrame({'Name' : name, 'Party' : party, 'CID' : cid, 'Gender' : gender, 'DOB' : dob,\n",
    "                                          'Elected in': elected, 'Office' : office, 'Phone Num' : phone,\n",
    "                                          'Website' : website, 'Comments' : comments}, index=[0]))\n",
    "    return summLegislatorsTable\n",
    "\n"
   ]
  },
  {
   "cell_type": "code",
   "execution_count": 165,
   "metadata": {
    "scrolled": false
   },
   "outputs": [],
   "source": [
    "#Contributions to a specific candidate based on industry\n",
    "\n",
    "def candIndustry(key):\n",
    "    \n",
    "    cid = input(\"Enter Candidate/Legislator's CID: \")\n",
    "    cycle = input(\"What cycle would you like to view? (2012, 2014, 2016, 2018, 2020): \")\n",
    "    params = {'method' : 'candIndustry', 'cid' : cid, 'cycle' : cycle, 'apikey' : key}\n",
    "\n",
    "    url = \"https://www.opensecrets.org/api\"\n",
    "\n",
    "    response = requests.get(url, params = params)\n",
    "    response_string = response.content\n",
    "\n",
    "    qwerty = xmltodict.parse(response_string)\n",
    "    alob = qwerty['response']['industries']['industry']\n",
    "    cand_Ind_Table = pd.DataFrame([])\n",
    "\n",
    "    for alobs in alob:\n",
    "        name = alobs['@industry_name']\n",
    "        code = alobs['@industry_code']\n",
    "        indivs = alobs['@indivs']\n",
    "        pacs = alobs['@pacs']\n",
    "        total = alobs['@total']\n",
    "        cand_Ind_Table = cand_Ind_Table.append(pd.DataFrame({'Industry' : name, 'Industry Code': code, 'Individuals' : indivs, 'PACS': pacs,\n",
    "                                           'Total' : total}, index=[0]))\n",
    "    print('\\n Showing contributions by Industry for', qwerty['response']['industries']['@cand_name'])\n",
    "    return cand_Ind_Table\n"
   ]
  },
  {
   "cell_type": "code",
   "execution_count": null,
   "metadata": {
    "scrolled": true
   },
   "outputs": [],
   "source": []
  },
  {
   "cell_type": "code",
   "execution_count": null,
   "metadata": {
    "scrolled": false
   },
   "outputs": [],
   "source": [
    "#Final Program\n",
    "\n",
    "import xmltodict\n",
    "import json\n",
    "import requests\n",
    "import pandas as pd\n",
    "import numpy as np\n",
    "\n",
    "key = \"f935c022c103817c465fa3d33f64ed86\"\n",
    "\n",
    "class color:\n",
    "    BOLD = '\\033[1m'\n",
    "    END = '\\033[0m'\n",
    "\n",
    "while True:\n",
    "    next_step = input(\"If you would like to see a list of Legislators and their CID (Candidate ID), type \" + color.BOLD + \"'State'\" + color.END + \".\\n\"\n",
    "    \"\\nIf you already have a CID, and you would like to view Summary data of a candidate, type \" + color.BOLD + \"'Summary'\" + color.END + \".\\n\"\n",
    "    \"\\nIf you already have a CID and you would like to view the top ten industries contributing to a specified candidate for a House or Senate seat or member of Congress, type \" + color.BOLD + \"'Industry'\" + color.END + \". \\n\"\n",
    "    \"\\nIf you already have a CID and you would like to view the leading contributing organizations for a  specified candidate for a House or Senate seat or member of Congress, type\" + color.BOLD + \" 'Orgs'\" + color.END + \". \\n\"\n",
    "    \"\\nIf you would like to exit, type 'Exit'. \\n\")\n",
    "    \n",
    "    if next_step == 'State':\n",
    "        getLegis_df = getLegislators(key)\n",
    "        display(getLegis_df)\n",
    "    elif next_step == 'Summary':\n",
    "        summ_df = summLegislators(key)\n",
    "        display(summ_df)\n",
    "    elif next_step == 'Industry':\n",
    "        candInd_df = candIndustry(key)\n",
    "        display(candInd_df)\n",
    "    elif next_step == 'Orgs':\n",
    "        candOrgs_df = candOrgs(key)\n",
    "        display(candOrgs_df)\n",
    "    elif next_step == 'Exit':\n",
    "        print('Thank you for staying informed. Goodbye. :)')\n",
    "        break"
   ]
  },
  {
   "cell_type": "code",
   "execution_count": null,
   "metadata": {},
   "outputs": [],
   "source": []
  }
 ],
 "metadata": {
  "kernelspec": {
   "display_name": "Python 3",
   "language": "python",
   "name": "python3"
  },
  "language_info": {
   "codemirror_mode": {
    "name": "ipython",
    "version": 3
   },
   "file_extension": ".py",
   "mimetype": "text/x-python",
   "name": "python",
   "nbconvert_exporter": "python",
   "pygments_lexer": "ipython3",
   "version": "3.7.6"
  }
 },
 "nbformat": 4,
 "nbformat_minor": 2
}
